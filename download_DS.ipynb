{
 "cells": [
  {
   "cell_type": "code",
   "execution_count": 1,
   "id": "d94bc21e-fbf5-4f59-8709-3c585521e8e6",
   "metadata": {},
   "outputs": [],
   "source": [
    "import numpy as np"
   ]
  },
  {
   "cell_type": "code",
   "execution_count": 3,
   "id": "6d1fb42c-44c9-4f0b-beb8-970940c6ac42",
   "metadata": {},
   "outputs": [],
   "source": [
    "import json\n",
    "with open('artifacts/kaggle.json','r') as file:\n",
    "    data = json.load(file)"
   ]
  },
  {
   "cell_type": "code",
   "execution_count": 4,
   "id": "8a167539-afb5-4fea-8bef-f2a0160215be",
   "metadata": {},
   "outputs": [
    {
     "data": {
      "text/plain": [
       "{'username': 'risheethawaduara', 'key': 'b8eecd2644072133b4b07c3bf0a53a70'}"
      ]
     },
     "execution_count": 4,
     "metadata": {},
     "output_type": "execute_result"
    }
   ],
   "source": [
    "data"
   ]
  },
  {
   "cell_type": "code",
   "execution_count": 5,
   "id": "42361c64-8799-43e1-b110-05f31bc8f6b6",
   "metadata": {},
   "outputs": [
    {
     "name": "stdout",
     "output_type": "stream",
     "text": [
      "Collecting kaggle\n",
      "  Downloading kaggle-1.6.6.tar.gz (84 kB)\n",
      "     ---------------------------------------- 0.0/84.6 kB ? eta -:--:--\n",
      "     ------------- ------------------------ 30.7/84.6 kB 660.6 kB/s eta 0:00:01\n",
      "     -------------------------------------- - 81.9/84.6 kB 1.1 MB/s eta 0:00:01\n",
      "     -------------------------------------- 84.6/84.6 kB 594.5 kB/s eta 0:00:00\n",
      "  Preparing metadata (setup.py): started\n",
      "  Preparing metadata (setup.py): finished with status 'done'\n",
      "Requirement already satisfied: six>=1.10 in c:\\users\\waris\\desktop\\identify_semtiments\\env\\lib\\site-packages (from kaggle) (1.16.0)\n",
      "Requirement already satisfied: certifi in c:\\users\\waris\\desktop\\identify_semtiments\\env\\lib\\site-packages (from kaggle) (2024.2.2)\n",
      "Requirement already satisfied: python-dateutil in c:\\users\\waris\\desktop\\identify_semtiments\\env\\lib\\site-packages (from kaggle) (2.9.0.post0)\n",
      "Requirement already satisfied: requests in c:\\users\\waris\\desktop\\identify_semtiments\\env\\lib\\site-packages (from kaggle) (2.31.0)\n",
      "Collecting tqdm (from kaggle)\n",
      "  Downloading tqdm-4.66.2-py3-none-any.whl.metadata (57 kB)\n",
      "     ---------------------------------------- 0.0/57.6 kB ? eta -:--:--\n",
      "     ----------------------------------- ---- 51.2/57.6 kB 2.6 MB/s eta 0:00:01\n",
      "     -------------------------------------- 57.6/57.6 kB 751.5 kB/s eta 0:00:00\n",
      "Collecting python-slugify (from kaggle)\n",
      "  Downloading python_slugify-8.0.4-py2.py3-none-any.whl.metadata (8.5 kB)\n",
      "Requirement already satisfied: urllib3 in c:\\users\\waris\\desktop\\identify_semtiments\\env\\lib\\site-packages (from kaggle) (2.2.1)\n",
      "Requirement already satisfied: bleach in c:\\users\\waris\\desktop\\identify_semtiments\\env\\lib\\site-packages (from kaggle) (6.1.0)\n",
      "Requirement already satisfied: webencodings in c:\\users\\waris\\desktop\\identify_semtiments\\env\\lib\\site-packages (from bleach->kaggle) (0.5.1)\n",
      "Collecting text-unidecode>=1.3 (from python-slugify->kaggle)\n",
      "  Downloading text_unidecode-1.3-py2.py3-none-any.whl.metadata (2.4 kB)\n",
      "Requirement already satisfied: charset-normalizer<4,>=2 in c:\\users\\waris\\desktop\\identify_semtiments\\env\\lib\\site-packages (from requests->kaggle) (3.3.2)\n",
      "Requirement already satisfied: idna<4,>=2.5 in c:\\users\\waris\\desktop\\identify_semtiments\\env\\lib\\site-packages (from requests->kaggle) (3.6)\n",
      "Requirement already satisfied: colorama in c:\\users\\waris\\desktop\\identify_semtiments\\env\\lib\\site-packages (from tqdm->kaggle) (0.4.6)\n",
      "Downloading python_slugify-8.0.4-py2.py3-none-any.whl (10 kB)\n",
      "Downloading tqdm-4.66.2-py3-none-any.whl (78 kB)\n",
      "   ---------------------------------------- 0.0/78.3 kB ? eta -:--:--\n",
      "   ------------------------------- -------- 61.4/78.3 kB 3.4 MB/s eta 0:00:01\n",
      "   ------------------------------------ --- 71.7/78.3 kB 2.0 MB/s eta 0:00:01\n",
      "   ---------------------------------------- 78.3/78.3 kB 731.8 kB/s eta 0:00:00\n",
      "Downloading text_unidecode-1.3-py2.py3-none-any.whl (78 kB)\n",
      "   ---------------------------------------- 0.0/78.2 kB ? eta -:--:--\n",
      "   ------------------------------------ --- 71.7/78.2 kB 4.1 MB/s eta 0:00:01\n",
      "   ---------------------------------------- 78.2/78.2 kB 870.7 kB/s eta 0:00:00\n",
      "Building wheels for collected packages: kaggle\n",
      "  Building wheel for kaggle (setup.py): started\n",
      "  Building wheel for kaggle (setup.py): finished with status 'done'\n",
      "  Created wheel for kaggle: filename=kaggle-1.6.6-py3-none-any.whl size=111953 sha256=e8fa8f8d1bc22222ae6d2b7d7ffc531077589f1c01401e8be8243a139f426b71\n",
      "  Stored in directory: c:\\users\\waris\\appdata\\local\\pip\\cache\\wheels\\97\\06\\54\\3d44857e6aa73d66d0174f29389e7ea70c007105797e6ec05c\n",
      "Successfully built kaggle\n",
      "Installing collected packages: text-unidecode, tqdm, python-slugify, kaggle\n",
      "Successfully installed kaggle-1.6.6 python-slugify-8.0.4 text-unidecode-1.3 tqdm-4.66.2\n"
     ]
    }
   ],
   "source": [
    "!pip install kaggle"
   ]
  },
  {
   "cell_type": "code",
   "execution_count": 6,
   "id": "7d79b422-ada9-4a97-890c-315ed5fe2327",
   "metadata": {},
   "outputs": [],
   "source": [
    "import os\n",
    "os.environ['KAGGLE_USERNAME'] = data['username']\n",
    "os.environ['KAGGLE_KEY'] =data['key']"
   ]
  },
  {
   "cell_type": "code",
   "execution_count": 7,
   "id": "29913519-6d4d-4a49-9534-ea70d8025f09",
   "metadata": {},
   "outputs": [],
   "source": [
    "from kaggle.api.kaggle_api_extended import KaggleApi\n",
    "api = KaggleApi()\n",
    "api.authenticate()"
   ]
  },
  {
   "cell_type": "code",
   "execution_count": 8,
   "id": "214fef4f-6ef7-4f07-b44e-8056764a7284",
   "metadata": {},
   "outputs": [],
   "source": [
    "api.dataset_download_files('dineshpiyasamara/sentiment-analysis-dataset',path = 'artifacts/')"
   ]
  },
  {
   "cell_type": "code",
   "execution_count": 10,
   "id": "db608206-b68a-452c-84d8-a77e192127b5",
   "metadata": {},
   "outputs": [],
   "source": [
    "import zipfile\n",
    "with zipfile.ZipFile('artifacts/sentiment-analysis-dataset.zip','r') as zip_ref:\n",
    "    zip_ref.extractall('artifacts/')"
   ]
  },
  {
   "cell_type": "code",
   "execution_count": null,
   "id": "7952af07-fb8d-4dd9-bf6e-4903077491b5",
   "metadata": {},
   "outputs": [],
   "source": []
  }
 ],
 "metadata": {
  "kernelspec": {
   "display_name": "Python 3 (ipykernel)",
   "language": "python",
   "name": "python3"
  },
  "language_info": {
   "codemirror_mode": {
    "name": "ipython",
    "version": 3
   },
   "file_extension": ".py",
   "mimetype": "text/x-python",
   "name": "python",
   "nbconvert_exporter": "python",
   "pygments_lexer": "ipython3",
   "version": "3.11.3"
  }
 },
 "nbformat": 4,
 "nbformat_minor": 5
}
